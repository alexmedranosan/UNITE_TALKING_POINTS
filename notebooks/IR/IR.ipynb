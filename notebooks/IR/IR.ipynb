{
 "cells": [
  {
   "cell_type": "markdown",
   "id": "af7f4ce1-ad19-473c-a76c-2e543fac8344",
   "metadata": {},
   "source": [
    "# Information Retrieval\n",
    "\n",
    "For this type of system we will carry out a joint experimentation. Where we will experiment with:\n",
    "- Text splitting\n",
    "- Vectorisation method\n",
    "\n",
    "To measure the quality of the system, we will use the defined metric TPPI."
   ]
  },
  {
   "cell_type": "markdown",
   "id": "51f76fb2-a457-4e79-970b-a152253ae0b7",
   "metadata": {},
   "source": [
    "## 0. Set up"
   ]
  },
  {
   "cell_type": "code",
   "execution_count": 1,
   "id": "0b777189-c8c7-4115-8fdb-36f003c93b8d",
   "metadata": {},
   "outputs": [
    {
     "name": "stderr",
     "output_type": "stream",
     "text": [
      "/Users/alejandro.medrano/.local/share/virtualenvs/UNITE_TALKING_POINTS-QWuKLflF/lib/python3.9/site-packages/IPython/core/magics/osm.py:417: UserWarning: using dhist requires you to install the `pickleshare` library.\n",
      "  self.shell.db['dhist'] = compress_dhist(dhist)[-100:]\n"
     ]
    },
    {
     "name": "stdout",
     "output_type": "stream",
     "text": [
      "/Users/alejandro.medrano/Projects/UNITE_TALKING_POINTS\n"
     ]
    }
   ],
   "source": [
    "# Switch to home project directory\n",
    "%cd ../.."
   ]
  },
  {
   "cell_type": "code",
   "execution_count": 2,
   "id": "bd2239e1-4113-4db0-9e0c-574ad2fb7d8e",
   "metadata": {},
   "outputs": [],
   "source": [
    "import json\n",
    "import os\n",
    "\n",
    "import pandas as pd\n",
    "import numpy as np\n",
    "\n",
    "import spacy\n",
    "\n",
    "import seaborn as sns\n",
    "import matplotlib.pyplot as plt\n",
    "\n",
    "from collections import defaultdict\n",
    "\n",
    "from sklearn.feature_extraction.text import CountVectorizer\n",
    "from sklearn.feature_extraction.text import TfidfVectorizer\n",
    "from sklearn.metrics.pairwise import cosine_similarity\n",
    "from scipy.stats import pearsonr, spearmanr, kendalltau\n",
    "\n",
    "from bert_score import BERTScorer\n",
    "import torch\n",
    "from transformers import GPT2LMHeadModel, GPT2Tokenizer\n",
    "from transformers import logging\n",
    "logging.set_verbosity_error()\n",
    "\n",
    "from tqdm.notebook import tqdm\n",
    "\n",
    "from textstat import flesch_reading_ease\n",
    "\n",
    "from src.unite_talking_points.utils.config.config_loader import ConfigLoader\n",
    "from typing import TypedDict\n",
    "import openai"
   ]
  },
  {
   "cell_type": "code",
   "execution_count": 3,
   "id": "7b911d69-d479-4168-8a82-3125786f817b",
   "metadata": {},
   "outputs": [],
   "source": [
    "config = ConfigLoader().load_config(current_directory_is_root=True)"
   ]
  },
  {
   "cell_type": "code",
   "execution_count": 4,
   "id": "cdb96a3e-5b5e-4a42-a4ab-4c401c321c7e",
   "metadata": {},
   "outputs": [],
   "source": [
    "os.environ[\"OPENAI_API_KEY\"] = config['External-services']['openai_api_key']\n",
    "client = openai.OpenAI(api_key=config['External-services']['openai_api_key'])"
   ]
  },
  {
   "cell_type": "code",
   "execution_count": 5,
   "id": "a95264f1-3982-4e7b-bf11-bfb3de47aff1",
   "metadata": {},
   "outputs": [],
   "source": [
    "class TPPIResult(TypedDict):\n",
    "    TPPI: float\n",
    "    BertScore: float\n",
    "    Normalized_BertScore: float\n",
    "    Perplexity: float\n",
    "    Normalized_Perplexity: float\n",
    "    Flesch: float\n",
    "    Normalized_Flesch: float\n",
    "\n",
    "\n",
    "class TPPI:\n",
    "    def __init__(self, model_type: str = 'bert-base-uncased'):\n",
    "        \"\"\"\n",
    "        Inicializa el normalizador de puntuaciones y los modelos necesarios para los cálculos.\n",
    "        \"\"\"\n",
    "        self.scorer = BERTScorer(model_type=model_type)\n",
    "        self.gpt2_model = GPT2LMHeadModel.from_pretrained('gpt2')\n",
    "        self.gpt2_tokenizer = GPT2Tokenizer.from_pretrained('gpt2')\n",
    "\n",
    "    @staticmethod\n",
    "    def normalize_bert_score(bert_score: float) -> float:\n",
    "        \"\"\"\n",
    "        Normaliza el puntaje BERT en un rango de 0 a 1.\n",
    "        \"\"\"\n",
    "        return (bert_score + 1) / 2\n",
    "\n",
    "    @staticmethod\n",
    "    def normalize_perplexity(perplexity: float) -> float:\n",
    "        \"\"\"\n",
    "        Normaliza el valor de la perplejidad en un rango de 0 a 1.\n",
    "        \"\"\"\n",
    "        # Aseguramos que la perplexidad mínima sea al menos 1 para evitar división por cero\n",
    "        perplexity = max(perplexity, 1)\n",
    "        # Invertimos la fórmula para que valores bajos de perplexidad den valores altos normalizados\n",
    "        return 1 - (min(perplexity, 100) - 1) / 99\n",
    "\n",
    "    @staticmethod\n",
    "    def normalize_flesch(flesch: float) -> float:\n",
    "        \"\"\"\n",
    "        Normaliza el puntaje de Flesch en un rango de 0 a 1.\n",
    "        \"\"\"\n",
    "        return max(min(flesch, 100), 0) / 100\n",
    "\n",
    "    def calculate_bert_score(self, reference_text: str, generated_text: str) -> float:\n",
    "        \"\"\"\n",
    "        Calcula el BertScore entre un texto de referencia y uno generado.\n",
    "        \"\"\"\n",
    "        P, R, F1 = self.scorer.score([reference_text], [generated_text], verbose=False)\n",
    "        bert_score = F1.item()\n",
    "        return bert_score\n",
    "\n",
    "    def calculate_perplexity(self, text: str) -> float:\n",
    "        \"\"\"\n",
    "        Calcula la perplejidad de un texto utilizando el modelo GPT-2.\n",
    "        \"\"\"\n",
    "        encode = self.gpt2_tokenizer.encode(text, return_tensors='pt')\n",
    "        with torch.no_grad():\n",
    "            loss = self.gpt2_model(encode, labels=encode)[0]\n",
    "        perplexity = torch.exp(loss).item()\n",
    "        return perplexity\n",
    "\n",
    "    @staticmethod\n",
    "    def calculate_flesch(text: str) -> float:\n",
    "        \"\"\"\n",
    "        Calcula el puntaje de Flesch Reading Ease de un texto.\n",
    "        \"\"\"\n",
    "        flesch_score = flesch_reading_ease(text)\n",
    "        return flesch_score\n",
    "\n",
    "    def calculate_tppi(self, original_text: str, generated_text: str) -> TPPIResult:\n",
    "        \"\"\"\n",
    "        Calcula el TPPI basado en los textos de referencia y generados, devolviendo los puntajes de BERT,\n",
    "        perplejidad y Flesch tanto normalizados como sin normalizar.\n",
    "        \"\"\"\n",
    "        # Calcula BertScore\n",
    "        bert_score = self.calculate_bert_score(original_text, generated_text)\n",
    "        normalized_bert_score = self.normalize_bert_score(bert_score)\n",
    "\n",
    "        # Calcula Perplejidad\n",
    "        perplexity = self.calculate_perplexity(generated_text)\n",
    "        normalized_perplexity = self.normalize_perplexity(perplexity)\n",
    "\n",
    "        # Calcula Flesch\n",
    "        flesch = self.calculate_flesch(generated_text)\n",
    "        normalized_flesch = self.normalize_flesch(flesch)\n",
    "\n",
    "        # Calcula TPPI\n",
    "        tppi_score = 0.5 * normalized_bert_score + 0.25 * normalized_perplexity + 0.25 * normalized_flesch\n",
    "\n",
    "        # Devuelve todos los valores en un TypedDict\n",
    "        return TPPIResult(\n",
    "            TPPI=tppi_score,\n",
    "            BertScore=bert_score,\n",
    "            Normalized_BertScore=normalized_bert_score,\n",
    "            Perplexity=perplexity,\n",
    "            Normalized_Perplexity=normalized_perplexity,\n",
    "            Flesch=flesch,\n",
    "            Normalized_Flesch=normalized_flesch\n",
    "        )\n"
   ]
  },
  {
   "cell_type": "markdown",
   "id": "4228e3b0-2e94-4243-a82b-d96163d0d235",
   "metadata": {},
   "source": [
    "## 1. Data loading"
   ]
  },
  {
   "cell_type": "code",
   "execution_count": 6,
   "id": "7714c7b0-9fcb-4b89-818b-0374ac868f18",
   "metadata": {},
   "outputs": [],
   "source": [
    "def load_json_data(data_dir):\n",
    "    \"\"\"\n",
    "    Load JSON data from the specified directory into a pandas DataFrame.\n",
    "\n",
    "    Args:\n",
    "    - data_dir (str): Path to the directory containing JSON files.\n",
    "\n",
    "    Returns:\n",
    "    - df (pd.DataFrame): DataFrame containing the loaded JSON data.\n",
    "    \"\"\"\n",
    "    # Initialize empty lists to store data\n",
    "    file_names = []\n",
    "    labels = []\n",
    "    document_names = []\n",
    "    meeting_names = []\n",
    "    meeting_dates = []\n",
    "    contents = []\n",
    "    prompts = []\n",
    "\n",
    "    # Iterate over each JSON file in the directory\n",
    "    for filename in os.listdir(data_dir):\n",
    "        if filename.endswith('.json'):\n",
    "            with open(os.path.join(data_dir, filename), 'r') as file:\n",
    "                data = json.load(file)\n",
    "                # Extract data from each JSON file and append to lists\n",
    "                file_names.append(filename)\n",
    "                labels.append(data['label'])\n",
    "                document_names.append(data['document_name'])\n",
    "                meeting_names.append(data['meeting_name'])\n",
    "                meeting_dates.append(data['meeting_date'])\n",
    "                contents.append(data['content'])\n",
    "                prompts.append(data['prompt'])\n",
    "\n",
    "    # Create a DataFrame from the lists\n",
    "    df = pd.DataFrame({\n",
    "        'file_name': file_names,\n",
    "        'label': labels,\n",
    "        'document_name': document_names,\n",
    "        'meeting_name': meeting_names,\n",
    "        'meeting_date': meeting_dates,\n",
    "        'content': contents,\n",
    "        'prompt': prompts\n",
    "    })\n",
    "\n",
    "    return df"
   ]
  },
  {
   "cell_type": "code",
   "execution_count": 7,
   "id": "7f62d467-df98-445e-90dd-2e162c20fe6e",
   "metadata": {},
   "outputs": [],
   "source": [
    "df = load_json_data(config['Directories']['raw_data_path'])"
   ]
  },
  {
   "cell_type": "code",
   "execution_count": 8,
   "id": "3e176ea4-1ea7-4f90-b12b-e987085eddc5",
   "metadata": {},
   "outputs": [
    {
     "data": {
      "text/html": [
       "<div>\n",
       "<style scoped>\n",
       "    .dataframe tbody tr th:only-of-type {\n",
       "        vertical-align: middle;\n",
       "    }\n",
       "\n",
       "    .dataframe tbody tr th {\n",
       "        vertical-align: top;\n",
       "    }\n",
       "\n",
       "    .dataframe thead th {\n",
       "        text-align: right;\n",
       "    }\n",
       "</style>\n",
       "<table border=\"1\" class=\"dataframe\">\n",
       "  <thead>\n",
       "    <tr style=\"text-align: right;\">\n",
       "      <th></th>\n",
       "      <th>file_name</th>\n",
       "      <th>label</th>\n",
       "      <th>document_name</th>\n",
       "      <th>meeting_name</th>\n",
       "      <th>meeting_date</th>\n",
       "      <th>content</th>\n",
       "      <th>prompt</th>\n",
       "    </tr>\n",
       "  </thead>\n",
       "  <tbody>\n",
       "    <tr>\n",
       "      <th>0</th>\n",
       "      <td>PSGD 2023-03-06 Talking Points for USG DOS on ...</td>\n",
       "      <td>ai</td>\n",
       "      <td>Talking Points for USG DOS on Generative AI</td>\n",
       "      <td>Senior Manamement Group</td>\n",
       "      <td>09-03-2023</td>\n",
       "      <td>Generative Artificial Intelligence is a form o...</td>\n",
       "      <td>Generate talking points addressing the recent ...</td>\n",
       "    </tr>\n",
       "    <tr>\n",
       "      <th>1</th>\n",
       "      <td>BN DOS USG on Implementation of Digital Transf...</td>\n",
       "      <td>peacekeeping</td>\n",
       "      <td>Briefing Note for USG DOS</td>\n",
       "      <td>Implementation of the Peacekeeping Digital Tra...</td>\n",
       "      <td>01-06-2022</td>\n",
       "      <td>DOS is a partner in the digital transformation...</td>\n",
       "      <td>Create talking points highlighting the partner...</td>\n",
       "    </tr>\n",
       "    <tr>\n",
       "      <th>2</th>\n",
       "      <td>2022-12-08 DRAFT Remarks for 7th Pannel ICT Af...</td>\n",
       "      <td>digital_transformation</td>\n",
       "      <td>Remarks for ASG OICT</td>\n",
       "      <td>7th Panel: Information and Communications Tech...</td>\n",
       "      <td>08-12-2022</td>\n",
       "      <td>Acknowledgment of the crucial moment for ICT i...</td>\n",
       "      <td>Create a draft for a keynote address by a UN o...</td>\n",
       "    </tr>\n",
       "    <tr>\n",
       "      <th>3</th>\n",
       "      <td>2022-10-14 764 CXOTalk ASG OICT FINAL digital ...</td>\n",
       "      <td>digital_transformation</td>\n",
       "      <td>CITO Interview CXOTalk Show</td>\n",
       "      <td>CXOTALK EPISODE #764, DIGITAL TECHNOLOGIES &amp; ...</td>\n",
       "      <td>14-10-2022</td>\n",
       "      <td>Role of Technology at the UN: Technology plays...</td>\n",
       "      <td>Generate talking points on how technology inte...</td>\n",
       "    </tr>\n",
       "    <tr>\n",
       "      <th>4</th>\n",
       "      <td>2022-08-24 TECH ENVOY TPs - CITO cybersecurity...</td>\n",
       "      <td>cybersecurity</td>\n",
       "      <td>Talking Points for ASG OICT</td>\n",
       "      <td>Meeting with the incoming Special Envoy for Te...</td>\n",
       "      <td>24-09-2022</td>\n",
       "      <td>Trust in the integrity, reliability and securi...</td>\n",
       "      <td>Generate talking points about the importance o...</td>\n",
       "    </tr>\n",
       "    <tr>\n",
       "      <th>5</th>\n",
       "      <td>2022-08-24 TECH ENVOY TPs - CITO ai.json</td>\n",
       "      <td>ai</td>\n",
       "      <td>Talking Points for ASG OICT</td>\n",
       "      <td>Meeting with the incoming Special Envoy for Te...</td>\n",
       "      <td>24-08-2022</td>\n",
       "      <td>Welcome!\\nI would very much like to see contin...</td>\n",
       "      <td>Please draft a message welcoming collaboration...</td>\n",
       "    </tr>\n",
       "    <tr>\n",
       "      <th>6</th>\n",
       "      <td>2022-03-02 Talking Points for USG DMSPC Our Co...</td>\n",
       "      <td>data_strategy</td>\n",
       "      <td>Talking Points for USG DMSPC - Our Common Agenda</td>\n",
       "      <td></td>\n",
       "      <td>02-03-2022</td>\n",
       "      <td>OICT continues to support business entities in...</td>\n",
       "      <td>Generate talking points on the ongoing efforts...</td>\n",
       "    </tr>\n",
       "    <tr>\n",
       "      <th>7</th>\n",
       "      <td>2023-09-15 Opening Remarks UNGS ScienceSummit ...</td>\n",
       "      <td>data_strategy</td>\n",
       "      <td>Opening Remarks for ASG OICT</td>\n",
       "      <td>UNGA Science Summit</td>\n",
       "      <td>12-09-2023</td>\n",
       "      <td>Emphasis on the importance of science as a cen...</td>\n",
       "      <td>Generate a set of strategic talking points for...</td>\n",
       "    </tr>\n",
       "    <tr>\n",
       "      <th>8</th>\n",
       "      <td>SG remarks to the Security Council on Artifici...</td>\n",
       "      <td>ai</td>\n",
       "      <td>SG remarks to the Security Council on Artifici...</td>\n",
       "      <td>SG remarks to the Security Council on Artifici...</td>\n",
       "      <td>01-09-2023</td>\n",
       "      <td>AI has reached unprecedented speed and reach, ...</td>\n",
       "      <td>Generate a comprehensive overview of the curre...</td>\n",
       "    </tr>\n",
       "    <tr>\n",
       "      <th>9</th>\n",
       "      <td>2022-10-14 764 CXOTalk ASG OICT FINAL ict stra...</td>\n",
       "      <td>ict_strategy</td>\n",
       "      <td>CITO Interview CXOTalk Show</td>\n",
       "      <td>CXOTALK EPISODE #764, DIGITAL TECHNOLOGIES &amp; T...</td>\n",
       "      <td>14-10-2022</td>\n",
       "      <td>Role and Functions of the ICT Office: The Chie...</td>\n",
       "      <td>Generate a detailed overview of the Informatio...</td>\n",
       "    </tr>\n",
       "    <tr>\n",
       "      <th>10</th>\n",
       "      <td>2023-03-27 CITO Opening Remarks Data Analytics...</td>\n",
       "      <td>data_strategy</td>\n",
       "      <td>Opening Remarks for ASG OICT</td>\n",
       "      <td>1st Global UN 'Mission Support Personnel' Data...</td>\n",
       "      <td>27-03-2023</td>\n",
       "      <td>Appreciation for UNMIK hosts and leadership fo...</td>\n",
       "      <td>Create a keynote speech for the UNMIK Data Ana...</td>\n",
       "    </tr>\n",
       "    <tr>\n",
       "      <th>11</th>\n",
       "      <td>2022-06-21 ASG OICT Opening Speech Harnessing ...</td>\n",
       "      <td>digital_transformation</td>\n",
       "      <td>Assistant Secretary-General OICT Opening Speec...</td>\n",
       "      <td>6th International Partnership for Technology i...</td>\n",
       "      <td>21-06-2022</td>\n",
       "      <td>Context of Digital Transformation: The COVID p...</td>\n",
       "      <td>Generate detailed talking points focusing on t...</td>\n",
       "    </tr>\n",
       "    <tr>\n",
       "      <th>12</th>\n",
       "      <td>2023-02-17 CITO TPs for IAAC 61 session.json</td>\n",
       "      <td>cybersecurity</td>\n",
       "      <td>Talking Points for ASG OICT</td>\n",
       "      <td>61st Session of IAAC</td>\n",
       "      <td>17-02-2023</td>\n",
       "      <td>Cybersecurity threats to the organization rema...</td>\n",
       "      <td>Generate talking points regarding cybersecurit...</td>\n",
       "    </tr>\n",
       "    <tr>\n",
       "      <th>13</th>\n",
       "      <td>SG address to the General Assembly 09-2023 cop...</td>\n",
       "      <td>ict_strategy</td>\n",
       "      <td>TPs for 2023 Briefings to Member States on ICT...</td>\n",
       "      <td>Briefings to Member States on ICT Strategy</td>\n",
       "      <td>01-01-2023</td>\n",
       "      <td>The absence of an endorsed ICT strategy means ...</td>\n",
       "      <td>Generate talking points emphasizing the urgent...</td>\n",
       "    </tr>\n",
       "    <tr>\n",
       "      <th>14</th>\n",
       "      <td>2022-12-09 DMSPC Video TPs for CITO.json</td>\n",
       "      <td>ict_strategy</td>\n",
       "      <td>Talking Points for ASG OICT</td>\n",
       "      <td>New DMSPC video production</td>\n",
       "      <td>09-12-2022</td>\n",
       "      <td>The Business Transformation and Accountability...</td>\n",
       "      <td>Generate a comprehensive overview of the role ...</td>\n",
       "    </tr>\n",
       "    <tr>\n",
       "      <th>15</th>\n",
       "      <td>2023-02-29 Speech for CITO at the UN Maps Conf...</td>\n",
       "      <td>data_strategy</td>\n",
       "      <td>TPs - Speech for CITO at the UN Maps Conferenc...</td>\n",
       "      <td>UN Maps Conference in Valencia</td>\n",
       "      <td>06-03-2023</td>\n",
       "      <td>Welcome and appreciation for the attendance of...</td>\n",
       "      <td>Generate talking points for an upcoming keynot...</td>\n",
       "    </tr>\n",
       "    <tr>\n",
       "      <th>16</th>\n",
       "      <td>SG address to the General Assembly 09-2023 ai....</td>\n",
       "      <td>ai</td>\n",
       "      <td>Secretary-General's address to the General Ass...</td>\n",
       "      <td>Secretary-General's address to the General Ass...</td>\n",
       "      <td>01-09-2023</td>\n",
       "      <td>Governance of Emerging Technologies: The addre...</td>\n",
       "      <td>Generate a series of talking points for an upc...</td>\n",
       "    </tr>\n",
       "    <tr>\n",
       "      <th>17</th>\n",
       "      <td>2022-11-22 CITO Opening Remarks - UN Technolog...</td>\n",
       "      <td>digital_transformation</td>\n",
       "      <td>Opening Remarks for ASG OICT</td>\n",
       "      <td>Conversation series: UN Technology Partnership...</td>\n",
       "      <td>22-11-2022</td>\n",
       "      <td>The UN Technology Partnership for Digital Tran...</td>\n",
       "      <td>Generate detailed talking points for an upcomi...</td>\n",
       "    </tr>\n",
       "    <tr>\n",
       "      <th>18</th>\n",
       "      <td>2023-06-14 MC TPs for ASG DOS.json</td>\n",
       "      <td>cybersecurity</td>\n",
       "      <td>Briefing Note and Talking Points for ASG DOS</td>\n",
       "      <td>Management Committee</td>\n",
       "      <td>14-06-2023</td>\n",
       "      <td>We are all aware of the of the increasing rele...</td>\n",
       "      <td>Generate talking points regarding cybersecurit...</td>\n",
       "    </tr>\n",
       "    <tr>\n",
       "      <th>19</th>\n",
       "      <td>2023-06-13 CITO Opening Remarks 7th Symposium ...</td>\n",
       "      <td>peacekeeping</td>\n",
       "      <td>Assistant Secretary-General OICT Opening Remarks</td>\n",
       "      <td>7th Partnership for Technology in Peacekeeping...</td>\n",
       "      <td>13-06-2023</td>\n",
       "      <td>Digital Transformation Priority: The symposium...</td>\n",
       "      <td>Generate talking points on the digital transfo...</td>\n",
       "    </tr>\n",
       "    <tr>\n",
       "      <th>20</th>\n",
       "      <td>Remarks Tech Envoy Mobile World Congress 2023....</td>\n",
       "      <td>ai</td>\n",
       "      <td>Remarks by the Envoy on Technology at the Mobi...</td>\n",
       "      <td>Mobile World Congress 2023</td>\n",
       "      <td>27-02-2023</td>\n",
       "      <td>The evolution of technologies like the motion ...</td>\n",
       "      <td>Please generate a comprehensive list of talkin...</td>\n",
       "    </tr>\n",
       "    <tr>\n",
       "      <th>21</th>\n",
       "      <td>SG address to the General Assembly 09-2023 ict...</td>\n",
       "      <td>ict_strategy</td>\n",
       "      <td>Secretary-General's address to the General Ass...</td>\n",
       "      <td>Secretary-General's address to the General Ass...</td>\n",
       "      <td>01-09-2023</td>\n",
       "      <td>The world is facing escalating geopolitical te...</td>\n",
       "      <td>Generate a comprehensive overview of current g...</td>\n",
       "    </tr>\n",
       "    <tr>\n",
       "      <th>22</th>\n",
       "      <td>2022-11-22 CITO Opening Remarks - UN Technolog...</td>\n",
       "      <td>peacekeeping</td>\n",
       "      <td>Opening Remarks for ASG OICT</td>\n",
       "      <td>Conversation series: UN Technology Partnership...</td>\n",
       "      <td>22-11-2022</td>\n",
       "      <td>The digital transformation conversation aims t...</td>\n",
       "      <td>Generate talking points addressing the collabo...</td>\n",
       "    </tr>\n",
       "    <tr>\n",
       "      <th>23</th>\n",
       "      <td>2022-08-02 TECH ENVOY TPs ai.json</td>\n",
       "      <td>ai</td>\n",
       "      <td>Talking Points for USG DOS</td>\n",
       "      <td>Meeting with the incoming Special Envoy for Te...</td>\n",
       "      <td>02-08-2022</td>\n",
       "      <td>There are several touch-points between the wor...</td>\n",
       "      <td>Generate talking points for fostering collabor...</td>\n",
       "    </tr>\n",
       "    <tr>\n",
       "      <th>24</th>\n",
       "      <td>2022-06-21 ASG OICT Opening Speech Harnessing ...</td>\n",
       "      <td>peacekeeping</td>\n",
       "      <td>Assistant Secretary-General OICT Opening Speec...</td>\n",
       "      <td>6th International Partnership for Technology i...</td>\n",
       "      <td>21-06-2022</td>\n",
       "      <td>Digital Transformation Accelerated by COVID-19...</td>\n",
       "      <td>Compose talking points highlighting the impact...</td>\n",
       "    </tr>\n",
       "    <tr>\n",
       "      <th>25</th>\n",
       "      <td>2023-06-13 CITO Opening Remarks 7th Symposium ...</td>\n",
       "      <td>digital_transformation</td>\n",
       "      <td>Assistant Secretary-General OICT Opening Remarks</td>\n",
       "      <td>7th Partnership for Technology in Peacekeeping...</td>\n",
       "      <td>13-06-2023</td>\n",
       "      <td>The symposium aims to accelerate the digital t...</td>\n",
       "      <td>Generate a briefing note outlining the objecti...</td>\n",
       "    </tr>\n",
       "    <tr>\n",
       "      <th>26</th>\n",
       "      <td>2022-12-09 DMSPC Video TPs for ASG OICT.json</td>\n",
       "      <td>digital_transformation</td>\n",
       "      <td>Talking Points for ASG OICT</td>\n",
       "      <td>New DMSPC video production</td>\n",
       "      <td>09-12-2022</td>\n",
       "      <td>Digital Transformation as a Driver of Organiza...</td>\n",
       "      <td>Generate talking points on the role of digital...</td>\n",
       "    </tr>\n",
       "    <tr>\n",
       "      <th>27</th>\n",
       "      <td>2022-02-24 Note for DOS USG - Triangular partn...</td>\n",
       "      <td>peacekeeping</td>\n",
       "      <td>Note for USG DOS Keynote Speech</td>\n",
       "      <td>Triangular Partnerships Programme in UN peacek...</td>\n",
       "      <td>24-02-2022</td>\n",
       "      <td>Partnerships are the bedrock of UN peacekeepin...</td>\n",
       "      <td>Generate talking points highlighting the signi...</td>\n",
       "    </tr>\n",
       "    <tr>\n",
       "      <th>28</th>\n",
       "      <td>2023-09-15 Opening Remarks UNGS ScienceSummit ...</td>\n",
       "      <td>ai</td>\n",
       "      <td>Opening Remarks for ASG OICT</td>\n",
       "      <td>UNGA Science Summit</td>\n",
       "      <td>12-09-2023</td>\n",
       "      <td>Introduction and Welcome: Emphasize the role o...</td>\n",
       "      <td>Generate a set of talking points for a keynote...</td>\n",
       "    </tr>\n",
       "    <tr>\n",
       "      <th>29</th>\n",
       "      <td>2022-08-02 TECH ENVOY TPs cybersecurity.json</td>\n",
       "      <td>cybersecurity</td>\n",
       "      <td>Talking Points for USG DOS</td>\n",
       "      <td>Meeting with the incoming Special Envoy for Te...</td>\n",
       "      <td>02-09-2022</td>\n",
       "      <td>Trust in the integrity, reliability and securi...</td>\n",
       "      <td>Generate talking points on the importance of t...</td>\n",
       "    </tr>\n",
       "  </tbody>\n",
       "</table>\n",
       "</div>"
      ],
      "text/plain": [
       "                                            file_name                   label  \\\n",
       "0   PSGD 2023-03-06 Talking Points for USG DOS on ...                      ai   \n",
       "1   BN DOS USG on Implementation of Digital Transf...            peacekeeping   \n",
       "2   2022-12-08 DRAFT Remarks for 7th Pannel ICT Af...  digital_transformation   \n",
       "3   2022-10-14 764 CXOTalk ASG OICT FINAL digital ...  digital_transformation   \n",
       "4   2022-08-24 TECH ENVOY TPs - CITO cybersecurity...           cybersecurity   \n",
       "5            2022-08-24 TECH ENVOY TPs - CITO ai.json                      ai   \n",
       "6   2022-03-02 Talking Points for USG DMSPC Our Co...           data_strategy   \n",
       "7   2023-09-15 Opening Remarks UNGS ScienceSummit ...           data_strategy   \n",
       "8   SG remarks to the Security Council on Artifici...                      ai   \n",
       "9   2022-10-14 764 CXOTalk ASG OICT FINAL ict stra...            ict_strategy   \n",
       "10  2023-03-27 CITO Opening Remarks Data Analytics...           data_strategy   \n",
       "11  2022-06-21 ASG OICT Opening Speech Harnessing ...  digital_transformation   \n",
       "12       2023-02-17 CITO TPs for IAAC 61 session.json           cybersecurity   \n",
       "13  SG address to the General Assembly 09-2023 cop...            ict_strategy   \n",
       "14           2022-12-09 DMSPC Video TPs for CITO.json            ict_strategy   \n",
       "15  2023-02-29 Speech for CITO at the UN Maps Conf...           data_strategy   \n",
       "16  SG address to the General Assembly 09-2023 ai....                      ai   \n",
       "17  2022-11-22 CITO Opening Remarks - UN Technolog...  digital_transformation   \n",
       "18                 2023-06-14 MC TPs for ASG DOS.json           cybersecurity   \n",
       "19  2023-06-13 CITO Opening Remarks 7th Symposium ...            peacekeeping   \n",
       "20  Remarks Tech Envoy Mobile World Congress 2023....                      ai   \n",
       "21  SG address to the General Assembly 09-2023 ict...            ict_strategy   \n",
       "22  2022-11-22 CITO Opening Remarks - UN Technolog...            peacekeeping   \n",
       "23                  2022-08-02 TECH ENVOY TPs ai.json                      ai   \n",
       "24  2022-06-21 ASG OICT Opening Speech Harnessing ...            peacekeeping   \n",
       "25  2023-06-13 CITO Opening Remarks 7th Symposium ...  digital_transformation   \n",
       "26       2022-12-09 DMSPC Video TPs for ASG OICT.json  digital_transformation   \n",
       "27  2022-02-24 Note for DOS USG - Triangular partn...            peacekeeping   \n",
       "28  2023-09-15 Opening Remarks UNGS ScienceSummit ...                      ai   \n",
       "29       2022-08-02 TECH ENVOY TPs cybersecurity.json           cybersecurity   \n",
       "\n",
       "                                        document_name  \\\n",
       "0         Talking Points for USG DOS on Generative AI   \n",
       "1                           Briefing Note for USG DOS   \n",
       "2                                Remarks for ASG OICT   \n",
       "3                         CITO Interview CXOTalk Show   \n",
       "4                         Talking Points for ASG OICT   \n",
       "5                         Talking Points for ASG OICT   \n",
       "6    Talking Points for USG DMSPC - Our Common Agenda   \n",
       "7                        Opening Remarks for ASG OICT   \n",
       "8   SG remarks to the Security Council on Artifici...   \n",
       "9                         CITO Interview CXOTalk Show   \n",
       "10                       Opening Remarks for ASG OICT   \n",
       "11  Assistant Secretary-General OICT Opening Speec...   \n",
       "12                        Talking Points for ASG OICT   \n",
       "13  TPs for 2023 Briefings to Member States on ICT...   \n",
       "14                        Talking Points for ASG OICT   \n",
       "15  TPs - Speech for CITO at the UN Maps Conferenc...   \n",
       "16  Secretary-General's address to the General Ass...   \n",
       "17                       Opening Remarks for ASG OICT   \n",
       "18       Briefing Note and Talking Points for ASG DOS   \n",
       "19   Assistant Secretary-General OICT Opening Remarks   \n",
       "20  Remarks by the Envoy on Technology at the Mobi...   \n",
       "21  Secretary-General's address to the General Ass...   \n",
       "22                       Opening Remarks for ASG OICT   \n",
       "23                         Talking Points for USG DOS   \n",
       "24  Assistant Secretary-General OICT Opening Speec...   \n",
       "25   Assistant Secretary-General OICT Opening Remarks   \n",
       "26                        Talking Points for ASG OICT   \n",
       "27                    Note for USG DOS Keynote Speech   \n",
       "28                       Opening Remarks for ASG OICT   \n",
       "29                         Talking Points for USG DOS   \n",
       "\n",
       "                                         meeting_name meeting_date  \\\n",
       "0                             Senior Manamement Group   09-03-2023   \n",
       "1   Implementation of the Peacekeeping Digital Tra...   01-06-2022   \n",
       "2   7th Panel: Information and Communications Tech...   08-12-2022   \n",
       "3    CXOTALK EPISODE #764, DIGITAL TECHNOLOGIES & ...   14-10-2022   \n",
       "4   Meeting with the incoming Special Envoy for Te...   24-09-2022   \n",
       "5   Meeting with the incoming Special Envoy for Te...   24-08-2022   \n",
       "6                                                       02-03-2022   \n",
       "7                                 UNGA Science Summit   12-09-2023   \n",
       "8   SG remarks to the Security Council on Artifici...   01-09-2023   \n",
       "9   CXOTALK EPISODE #764, DIGITAL TECHNOLOGIES & T...   14-10-2022   \n",
       "10  1st Global UN 'Mission Support Personnel' Data...   27-03-2023   \n",
       "11  6th International Partnership for Technology i...   21-06-2022   \n",
       "12                               61st Session of IAAC   17-02-2023   \n",
       "13         Briefings to Member States on ICT Strategy   01-01-2023   \n",
       "14                         New DMSPC video production   09-12-2022   \n",
       "15                     UN Maps Conference in Valencia   06-03-2023   \n",
       "16  Secretary-General's address to the General Ass...   01-09-2023   \n",
       "17  Conversation series: UN Technology Partnership...   22-11-2022   \n",
       "18                               Management Committee   14-06-2023   \n",
       "19  7th Partnership for Technology in Peacekeeping...   13-06-2023   \n",
       "20                         Mobile World Congress 2023   27-02-2023   \n",
       "21  Secretary-General's address to the General Ass...   01-09-2023   \n",
       "22  Conversation series: UN Technology Partnership...   22-11-2022   \n",
       "23  Meeting with the incoming Special Envoy for Te...   02-08-2022   \n",
       "24  6th International Partnership for Technology i...   21-06-2022   \n",
       "25  7th Partnership for Technology in Peacekeeping...   13-06-2023   \n",
       "26                         New DMSPC video production   09-12-2022   \n",
       "27  Triangular Partnerships Programme in UN peacek...   24-02-2022   \n",
       "28                                UNGA Science Summit   12-09-2023   \n",
       "29  Meeting with the incoming Special Envoy for Te...   02-09-2022   \n",
       "\n",
       "                                              content  \\\n",
       "0   Generative Artificial Intelligence is a form o...   \n",
       "1   DOS is a partner in the digital transformation...   \n",
       "2   Acknowledgment of the crucial moment for ICT i...   \n",
       "3   Role of Technology at the UN: Technology plays...   \n",
       "4   Trust in the integrity, reliability and securi...   \n",
       "5   Welcome!\\nI would very much like to see contin...   \n",
       "6   OICT continues to support business entities in...   \n",
       "7   Emphasis on the importance of science as a cen...   \n",
       "8   AI has reached unprecedented speed and reach, ...   \n",
       "9   Role and Functions of the ICT Office: The Chie...   \n",
       "10  Appreciation for UNMIK hosts and leadership fo...   \n",
       "11  Context of Digital Transformation: The COVID p...   \n",
       "12  Cybersecurity threats to the organization rema...   \n",
       "13  The absence of an endorsed ICT strategy means ...   \n",
       "14  The Business Transformation and Accountability...   \n",
       "15  Welcome and appreciation for the attendance of...   \n",
       "16  Governance of Emerging Technologies: The addre...   \n",
       "17  The UN Technology Partnership for Digital Tran...   \n",
       "18  We are all aware of the of the increasing rele...   \n",
       "19  Digital Transformation Priority: The symposium...   \n",
       "20  The evolution of technologies like the motion ...   \n",
       "21  The world is facing escalating geopolitical te...   \n",
       "22  The digital transformation conversation aims t...   \n",
       "23  There are several touch-points between the wor...   \n",
       "24  Digital Transformation Accelerated by COVID-19...   \n",
       "25  The symposium aims to accelerate the digital t...   \n",
       "26  Digital Transformation as a Driver of Organiza...   \n",
       "27  Partnerships are the bedrock of UN peacekeepin...   \n",
       "28  Introduction and Welcome: Emphasize the role o...   \n",
       "29  Trust in the integrity, reliability and securi...   \n",
       "\n",
       "                                               prompt  \n",
       "0   Generate talking points addressing the recent ...  \n",
       "1   Create talking points highlighting the partner...  \n",
       "2   Create a draft for a keynote address by a UN o...  \n",
       "3   Generate talking points on how technology inte...  \n",
       "4   Generate talking points about the importance o...  \n",
       "5   Please draft a message welcoming collaboration...  \n",
       "6   Generate talking points on the ongoing efforts...  \n",
       "7   Generate a set of strategic talking points for...  \n",
       "8   Generate a comprehensive overview of the curre...  \n",
       "9   Generate a detailed overview of the Informatio...  \n",
       "10  Create a keynote speech for the UNMIK Data Ana...  \n",
       "11  Generate detailed talking points focusing on t...  \n",
       "12  Generate talking points regarding cybersecurit...  \n",
       "13  Generate talking points emphasizing the urgent...  \n",
       "14  Generate a comprehensive overview of the role ...  \n",
       "15  Generate talking points for an upcoming keynot...  \n",
       "16  Generate a series of talking points for an upc...  \n",
       "17  Generate detailed talking points for an upcomi...  \n",
       "18  Generate talking points regarding cybersecurit...  \n",
       "19  Generate talking points on the digital transfo...  \n",
       "20  Please generate a comprehensive list of talkin...  \n",
       "21  Generate a comprehensive overview of current g...  \n",
       "22  Generate talking points addressing the collabo...  \n",
       "23  Generate talking points for fostering collabor...  \n",
       "24  Compose talking points highlighting the impact...  \n",
       "25  Generate a briefing note outlining the objecti...  \n",
       "26  Generate talking points on the role of digital...  \n",
       "27  Generate talking points highlighting the signi...  \n",
       "28  Generate a set of talking points for a keynote...  \n",
       "29  Generate talking points on the importance of t...  "
      ]
     },
     "execution_count": 8,
     "metadata": {},
     "output_type": "execute_result"
    }
   ],
   "source": [
    "df"
   ]
  },
  {
   "cell_type": "markdown",
   "id": "51dabcf0-af52-4ba6-94b7-c05a323b8fb1",
   "metadata": {},
   "source": [
    "## 2. Data preprocessing"
   ]
  },
  {
   "cell_type": "code",
   "execution_count": 9,
   "id": "ca1a6db6-f7dc-488b-9cbe-2d178dde328b",
   "metadata": {},
   "outputs": [
    {
     "name": "stderr",
     "output_type": "stream",
     "text": [
      "/Users/alejandro.medrano/.local/share/virtualenvs/UNITE_TALKING_POINTS-QWuKLflF/lib/python3.9/site-packages/spacy/util.py:910: UserWarning: [W095] Model 'en_core_web_trf' (3.7.3) was trained with spaCy v3.7.2 and may not be 100% compatible with the current version (3.8.0). If you see errors or degraded performance, download a newer compatible model or retrain your custom model with the current spaCy version. For more details and available updates, run: python -m spacy validate\n",
      "  warnings.warn(warn_msg)\n",
      "/Users/alejandro.medrano/.local/share/virtualenvs/UNITE_TALKING_POINTS-QWuKLflF/lib/python3.9/site-packages/thinc/shims/pytorch.py:253: FutureWarning: You are using `torch.load` with `weights_only=False` (the current default value), which uses the default pickle module implicitly. It is possible to construct malicious pickle data which will execute arbitrary code during unpickling (See https://github.com/pytorch/pytorch/blob/main/SECURITY.md#untrusted-models for more details). In a future release, the default value for `weights_only` will be flipped to `True`. This limits the functions that could be executed during unpickling. Arbitrary objects will no longer be allowed to be loaded via this mode unless they are explicitly allowlisted by the user via `torch.serialization.add_safe_globals`. We recommend you start setting `weights_only=True` for any use case where you don't have full control of the loaded file. Please open an issue on GitHub for any issues related to this experimental feature.\n",
      "  model.load_state_dict(torch.load(filelike, map_location=device))\n"
     ]
    }
   ],
   "source": [
    "# Load the English language model\n",
    "nlp = spacy.load('en_core_web_trf')"
   ]
  },
  {
   "cell_type": "code",
   "execution_count": 10,
   "id": "ec8c6f84-f7aa-4f87-9071-714b377c6050",
   "metadata": {},
   "outputs": [],
   "source": [
    "# Function to preprocess text\n",
    "def preprocess_text(text):\n",
    "    # Parse the text with spaCy\n",
    "    doc = nlp(text)\n",
    "    \n",
    "    # Tokenization, removing stop words, punctuation, and lemmatization\n",
    "    tokens = [token.lemma_.lower() for token in doc if not token.is_stop and not token.is_punct]\n",
    "    \n",
    "    # Join the tokens back into a string\n",
    "    preprocessed_text = ' '.join(tokens)\n",
    "    \n",
    "    return preprocessed_text"
   ]
  },
  {
   "cell_type": "code",
   "execution_count": 11,
   "id": "1789f2a5-7097-4e52-8dfb-66fedf7641b3",
   "metadata": {},
   "outputs": [
    {
     "name": "stderr",
     "output_type": "stream",
     "text": [
      "/Users/alejandro.medrano/.local/share/virtualenvs/UNITE_TALKING_POINTS-QWuKLflF/lib/python3.9/site-packages/thinc/shims/pytorch.py:114: FutureWarning: `torch.cuda.amp.autocast(args...)` is deprecated. Please use `torch.amp.autocast('cuda', args...)` instead.\n",
      "  with torch.cuda.amp.autocast(self._mixed_precision):\n",
      "/Users/alejandro.medrano/.local/share/virtualenvs/UNITE_TALKING_POINTS-QWuKLflF/lib/python3.9/site-packages/thinc/shims/pytorch.py:114: FutureWarning: `torch.cuda.amp.autocast(args...)` is deprecated. Please use `torch.amp.autocast('cuda', args...)` instead.\n",
      "  with torch.cuda.amp.autocast(self._mixed_precision):\n"
     ]
    },
    {
     "name": "stdout",
     "output_type": "stream",
     "text": [
      "Preprocessed Content:\n",
      "0    generative artificial intelligence form ai cre...\n",
      "1    dos partner digital transformation peacekeepin...\n",
      "2    acknowledgment crucial moment ict transform wo...\n",
      "3    role technology un technology play central rol...\n",
      "4    trust integrity reliability security digital t...\n",
      "Name: preprocessed_content, dtype: object\n"
     ]
    }
   ],
   "source": [
    "# Apply the preprocessing function to the 'content' column\n",
    "df['preprocessed_content'] = df['content'].apply(preprocess_text)\n",
    "df['preprocessed_prompt'] = df['prompt'].apply(preprocess_text)\n",
    "\n",
    "# Display the preprocessed content\n",
    "print(\"Preprocessed Content:\")\n",
    "print(df['preprocessed_content'].head())"
   ]
  },
  {
   "cell_type": "code",
   "execution_count": 12,
   "id": "1a004fb5-534f-4fe9-b473-1667d09a94c2",
   "metadata": {},
   "outputs": [],
   "source": [
    "df['meeting_date'] = pd.to_datetime(df['meeting_date'], format='%d-%m-%Y')"
   ]
  },
  {
   "cell_type": "markdown",
   "id": "61fb42ed-05ef-497a-b798-f2f2da339560",
   "metadata": {},
   "source": [
    "## 3. Experimentation"
   ]
  },
  {
   "cell_type": "markdown",
   "id": "b17c1596-74c6-4791-8105-3a69d916f676",
   "metadata": {},
   "source": [
    "### 3.1 Vectorization experimentation"
   ]
  },
  {
   "cell_type": "code",
   "execution_count": 13,
   "id": "6ea52a6b-9a05-4db5-8e11-6af2af7bf80f",
   "metadata": {},
   "outputs": [],
   "source": [
    "def get_openai_embedding(text, model=\"text-embedding-3-large\"):\n",
    "    response = client.embeddings.create(\n",
    "        model=model,\n",
    "        input=[text],\n",
    "        encoding_format=\"float\"\n",
    "    )\n",
    "    # Extract the embedding vector\n",
    "    embedding = np.array(response.data[0].embedding).reshape(1, -1)\n",
    "    return embedding"
   ]
  },
  {
   "cell_type": "code",
   "execution_count": 14,
   "id": "3ca3239a-5785-4d24-89fa-ce5339551ae7",
   "metadata": {},
   "outputs": [],
   "source": [
    "# Vectorización con TF-IDF\n",
    "tfidf_vectorizer = TfidfVectorizer()\n",
    "tfidf_matrix = tfidf_vectorizer.fit_transform(df['preprocessed_content'])\n",
    "tfidf_prompt_matrix = tfidf_vectorizer.transform(df['preprocessed_prompt'])\n",
    "\n",
    "# Vectorización con OpenAI\n",
    "embedding_matrix = np.vstack(df['content'].apply(lambda x: get_openai_embedding(x)))\n",
    "embedding_prompt_matrix = np.vstack(df['prompt'].apply(lambda x: get_openai_embedding(x)))"
   ]
  },
  {
   "cell_type": "code",
   "execution_count": 15,
   "id": "95aef08a-f06d-4a02-826d-79a2a3e52ed6",
   "metadata": {},
   "outputs": [
    {
     "name": "stderr",
     "output_type": "stream",
     "text": [
      "/Users/alejandro.medrano/.local/share/virtualenvs/UNITE_TALKING_POINTS-QWuKLflF/lib/python3.9/site-packages/transformers/tokenization_utils_base.py:1601: FutureWarning: `clean_up_tokenization_spaces` was not set. It will be set to `True` by default. This behavior will be depracted in transformers v4.45, and will be then set to `False` by default. For more details check this issue: https://github.com/huggingface/transformers/issues/31884\n",
      "  warnings.warn(\n"
     ]
    },
    {
     "data": {
      "application/vnd.jupyter.widget-view+json": {
       "model_id": "d37c4724c7bf44ada557c4fdb5e290e5",
       "version_major": 2,
       "version_minor": 0
      },
      "text/plain": [
       "  0%|          | 0/30 [00:00<?, ?it/s]"
      ]
     },
     "metadata": {},
     "output_type": "display_data"
    },
    {
     "data": {
      "application/vnd.jupyter.widget-view+json": {
       "model_id": "33baf4d44b534027aff4f247c2de1429",
       "version_major": 2,
       "version_minor": 0
      },
      "text/plain": [
       "  0%|          | 0/30 [00:00<?, ?it/s]"
      ]
     },
     "metadata": {},
     "output_type": "display_data"
    }
   ],
   "source": [
    "# Initialize TPPI scoring system\n",
    "tppi = TPPI()\n",
    "\n",
    "# Function to conduct experiments\n",
    "def conduct_experiment(df, vector_matrix, prompt_matrix, method):\n",
    "    results = []\n",
    "    for i in tqdm(range(len(df))):\n",
    "        # Find the most relevant document\n",
    "        cosine_similarities = cosine_similarity(prompt_matrix[i].reshape(1, -1), vector_matrix).flatten()\n",
    "        cosine_similarities[i] = -1  # exclude the document itself\n",
    "        most_relevant_doc_index = cosine_similarities.argmax()\n",
    "        most_relevant_doc = df.iloc[most_relevant_doc_index]\n",
    "\n",
    "        # Calculate TPPI\n",
    "        tppi_result = tppi.calculate_tppi(df['content'][i], most_relevant_doc['content'])\n",
    "        tppi_result['file_name'] = df['file_name'][i]\n",
    "        tppi_result['method'] = method\n",
    "        results.append(tppi_result)\n",
    "\n",
    "    return results\n",
    "\n",
    "# Run experiments\n",
    "tfidf_results = conduct_experiment(df, tfidf_matrix, tfidf_prompt_matrix, \"TF-IDF\")\n",
    "embedding_results = conduct_experiment(df, embedding_matrix, embedding_prompt_matrix, \"Embedding\")\n",
    "\n",
    "# Combine and save results\n",
    "all_results = pd.DataFrame(tfidf_results + embedding_results)"
   ]
  },
  {
   "cell_type": "code",
   "execution_count": 16,
   "id": "4e6d63d3-9f54-4c9d-a888-d209aa865b44",
   "metadata": {},
   "outputs": [
    {
     "name": "stdout",
     "output_type": "stream",
     "text": [
      "      method      TPPI                               BertScore Perplexity  \\\n",
      "                  mean       std       min       max      mean       mean   \n",
      "0  Embedding  0.630009  0.038625  0.550669  0.713895  0.688494  32.833511   \n",
      "1     TF-IDF  0.630822  0.038821  0.563224  0.713895  0.690974  29.641180   \n",
      "\n",
      "      Flesch  \n",
      "        mean  \n",
      "0  14.259333  \n",
      "1  10.421667  \n"
     ]
    }
   ],
   "source": [
    "# Calcula estadísticas básicas para cada método\n",
    "statistics = all_results.groupby('method').agg({\n",
    "    'TPPI': ['mean', 'std', 'min', 'max'],\n",
    "    'BertScore': ['mean'],\n",
    "    'Perplexity': ['mean'],\n",
    "    'Flesch' : ['mean']\n",
    "}).reset_index()\n",
    "\n",
    "print(statistics)"
   ]
  },
  {
   "cell_type": "code",
   "execution_count": 17,
   "id": "f0fe270a-ce02-4329-badc-dec071fb975d",
   "metadata": {},
   "outputs": [
    {
     "data": {
      "image/png": "[encoded data removed]",
      "text/plain": [
       "<Figure size 1200x1200 with 4 Axes>"
      ]
     },
     "metadata": {},
     "output_type": "display_data"
    }
   ],
   "source": [
    "# Definir los nombres de las métricas para iterar\n",
    "metrics = ['TPPI', 'Normalized_BertScore', 'Normalized_Perplexity', 'Normalized_Flesch']\n",
    "\n",
    "# Crear un subplot 2x2 para los boxplots de cada métrica\n",
    "fig, axes = plt.subplots(nrows=2, ncols=2, figsize=(12, 12))\n",
    "fig.suptitle('Distribución de Métricas por Método de Vectorización', fontsize=16)\n",
    "\n",
    "# Iterar sobre las métricas y los ejes para crear los boxplots\n",
    "for ax, metric in zip(axes.flatten(), metrics):\n",
    "    all_results.boxplot(column=metric, by='method', ax=ax, grid=False)\n",
    "    ax.set_title(metric)\n",
    "    ax.set_xlabel('Método de Vectorización')\n",
    "    ax.set_ylabel('Puntuación')\n",
    "    ax.set_ylim(0, 1)  # Asegurar que el gráfico esté limitado entre 0 y 1\n",
    "    ax.set_xticklabels(ax.get_xticklabels(), rotation=45)  # Rotar las etiquetas para mejor legibilidad\n",
    "\n",
    "# Ajustar el layout para evitar la superposición de los títulos y etiquetas\n",
    "plt.tight_layout(rect=[0, 0, 1, 0.96])  # Ajusta los límites del rectángulo del layout\n",
    "plt.show()"
   ]
  },
  {
   "cell_type": "markdown",
   "id": "442ae292-03de-4abf-80c8-abc1faeb62b0",
   "metadata": {},
   "source": [
    "### 3.2 Chuking experimentation"
   ]
  },
  {
   "cell_type": "code",
   "execution_count": 18,
   "id": "422fab78-e7a4-49ff-95e4-1bea541bad0a",
   "metadata": {},
   "outputs": [],
   "source": [
    "def expand_by_newline(df):\n",
    "    # Crear una lista de tuplas (índice original, frase)\n",
    "    tuples = []\n",
    "    for index, row in df.iterrows():\n",
    "        for sentence in row['content'].split('\\n'):\n",
    "            tuples.append((index, row['file_name'], sentence.strip()))\n",
    "\n",
    "    # Convertir la lista de tuplas en un DataFrame\n",
    "    new_df = pd.DataFrame(tuples, columns=['original_index', 'file_name', 'sentence'])\n",
    "    return new_df"
   ]
  },
  {
   "cell_type": "code",
   "execution_count": 19,
   "id": "1a49ed53-fdd1-419d-ba4c-c508139dec89",
   "metadata": {},
   "outputs": [],
   "source": [
    "sentences = expand_by_newline(df)"
   ]
  },
  {
   "cell_type": "code",
   "execution_count": 20,
   "id": "3e298b7a-23b3-4893-9e6f-26416cdae6cf",
   "metadata": {},
   "outputs": [],
   "source": [
    "embedding_sentences_matrix = np.vstack(sentences['sentence'].apply(lambda x: get_openai_embedding(x)))\n",
    "embedding_prompt_matrix = np.vstack(df['prompt'].apply(lambda x: get_openai_embedding(x)))"
   ]
  },
  {
   "cell_type": "code",
   "execution_count": 21,
   "id": "5672c019-d8df-4fa8-b774-e576d3ca94f6",
   "metadata": {},
   "outputs": [],
   "source": [
    "def conduct_experiment(df, sentences, vector_matrix, prompt_matrix, n=5):\n",
    "    results = []\n",
    "    for i in tqdm(range(len(df))):\n",
    "        # Find the most relevant document\n",
    "        cosine_similarities = cosine_similarity(prompt_matrix[i].reshape(1, -1), vector_matrix).flatten()\n",
    "        cosine_similarities[sentences.original_index == i] = -1  # exclude the document itself\n",
    "        top_n_indices = cosine_similarities.argsort()[-n:][::-1]\n",
    "        combined_content = '. '.join(sentences['sentence'][j] for j in top_n_indices)\n",
    "\n",
    "        # Calculate TPPI\n",
    "        tppi_result = tppi.calculate_tppi(df['content'][i], combined_content)\n",
    "        tppi_result['file_name'] = df['file_name'][i]\n",
    "        tppi_result['n'] = n\n",
    "        results.append(tppi_result)\n",
    "\n",
    "    return results"
   ]
  },
  {
   "cell_type": "code",
   "execution_count": 22,
   "id": "30750527-25e6-4de9-958a-c6677c63a637",
   "metadata": {},
   "outputs": [
    {
     "data": {
      "application/vnd.jupyter.widget-view+json": {
       "model_id": "73dd0d454886417590f99ea542a92715",
       "version_major": 2,
       "version_minor": 0
      },
      "text/plain": [
       "  0%|          | 0/30 [00:00<?, ?it/s]"
      ]
     },
     "metadata": {},
     "output_type": "display_data"
    },
    {
     "data": {
      "application/vnd.jupyter.widget-view+json": {
       "model_id": "cf3c2ef739584f7a8ed3fa57b3fac377",
       "version_major": 2,
       "version_minor": 0
      },
      "text/plain": [
       "  0%|          | 0/30 [00:00<?, ?it/s]"
      ]
     },
     "metadata": {},
     "output_type": "display_data"
    },
    {
     "data": {
      "application/vnd.jupyter.widget-view+json": {
       "model_id": "64507ecaff384e86b851a0a1a99b360b",
       "version_major": 2,
       "version_minor": 0
      },
      "text/plain": [
       "  0%|          | 0/30 [00:00<?, ?it/s]"
      ]
     },
     "metadata": {},
     "output_type": "display_data"
    },
    {
     "data": {
      "application/vnd.jupyter.widget-view+json": {
       "model_id": "7aa10d5f4aca4c638ee733bb6b7c5f02",
       "version_major": 2,
       "version_minor": 0
      },
      "text/plain": [
       "  0%|          | 0/30 [00:00<?, ?it/s]"
      ]
     },
     "metadata": {},
     "output_type": "display_data"
    },
    {
     "data": {
      "application/vnd.jupyter.widget-view+json": {
       "model_id": "5a902c17f105495497d491c17d416536",
       "version_major": 2,
       "version_minor": 0
      },
      "text/plain": [
       "  0%|          | 0/30 [00:00<?, ?it/s]"
      ]
     },
     "metadata": {},
     "output_type": "display_data"
    },
    {
     "data": {
      "application/vnd.jupyter.widget-view+json": {
       "model_id": "0d3060b411a2494e88f11eeac41da36d",
       "version_major": 2,
       "version_minor": 0
      },
      "text/plain": [
       "  0%|          | 0/30 [00:00<?, ?it/s]"
      ]
     },
     "metadata": {},
     "output_type": "display_data"
    },
    {
     "data": {
      "application/vnd.jupyter.widget-view+json": {
       "model_id": "7e8a2d88e0ea48a190b2703a2ececfff",
       "version_major": 2,
       "version_minor": 0
      },
      "text/plain": [
       "  0%|          | 0/30 [00:00<?, ?it/s]"
      ]
     },
     "metadata": {},
     "output_type": "display_data"
    },
    {
     "data": {
      "application/vnd.jupyter.widget-view+json": {
       "model_id": "68093ec4b98146cab81b9fc0b916aa38",
       "version_major": 2,
       "version_minor": 0
      },
      "text/plain": [
       "  0%|          | 0/30 [00:00<?, ?it/s]"
      ]
     },
     "metadata": {},
     "output_type": "display_data"
    },
    {
     "data": {
      "application/vnd.jupyter.widget-view+json": {
       "model_id": "5bb3480bda78480a873bbb8b8a4a7e29",
       "version_major": 2,
       "version_minor": 0
      },
      "text/plain": [
       "  0%|          | 0/30 [00:00<?, ?it/s]"
      ]
     },
     "metadata": {},
     "output_type": "display_data"
    },
    {
     "data": {
      "application/vnd.jupyter.widget-view+json": {
       "model_id": "af9b02671d9745dba38c00764b1c8e97",
       "version_major": 2,
       "version_minor": 0
      },
      "text/plain": [
       "  0%|          | 0/30 [00:00<?, ?it/s]"
      ]
     },
     "metadata": {},
     "output_type": "display_data"
    }
   ],
   "source": [
    "all_results = []\n",
    "for i in range(1, 11):\n",
    "    all_results += conduct_experiment(df, sentences, embedding_sentences_matrix, embedding_prompt_matrix, i)"
   ]
  },
  {
   "cell_type": "code",
   "execution_count": 23,
   "id": "e3ee3457-d04e-4a14-bca5-36b559faf6f5",
   "metadata": {},
   "outputs": [],
   "source": [
    "all_results = pd.DataFrame(all_results)"
   ]
  },
  {
   "cell_type": "code",
   "execution_count": 24,
   "id": "51ebe8e9-d16f-4ae1-8e0f-30ba13df50ed",
   "metadata": {},
   "outputs": [
    {
     "name": "stdout",
     "output_type": "stream",
     "text": [
      "    n      TPPI                               BertScore Perplexity     Flesch\n",
      "           mean       std       min       max      mean       mean       mean\n",
      "0   1  0.555949  0.077591  0.399487  0.689422  0.566067  55.546998  17.179333\n",
      "1   2  0.585289  0.056359  0.489273  0.696876  0.593745  46.407069  18.326333\n",
      "2   3  0.616783  0.056510  0.529341  0.717915  0.607738  36.455972  20.205667\n",
      "3   4  0.617879  0.042827  0.533279  0.713742  0.620725  34.490402  18.006333\n",
      "4   5  0.626755  0.039584  0.571602  0.722633  0.624898  32.606460  19.498333\n",
      "5   6  0.626298  0.036087  0.567231  0.701698  0.626622  31.841366  18.319667\n",
      "6   7  0.625032  0.035824  0.573268  0.704864  0.630892  32.607751  18.092667\n",
      "7   8  0.627389  0.036538  0.573496  0.703997  0.630341  32.416321  19.172667\n",
      "8   9  0.626653  0.036806  0.559032  0.703232  0.633160  32.382260  18.809667\n",
      "9  10  0.626910  0.035156  0.555591  0.700239  0.633903  32.786914  19.240333\n"
     ]
    }
   ],
   "source": [
    "# Calcula estadísticas básicas para cada método\n",
    "statistics = all_results.groupby('n').agg({\n",
    "    'TPPI': ['mean', 'std', 'min', 'max'],\n",
    "    'BertScore': ['mean'],\n",
    "    'Perplexity': ['mean'],\n",
    "    'Flesch' : ['mean']\n",
    "}).reset_index()\n",
    "\n",
    "print(statistics)"
   ]
  },
  {
   "cell_type": "code",
   "execution_count": 25,
   "id": "f285a79a-6714-46e7-8a60-85d005d2dbd5",
   "metadata": {},
   "outputs": [
    {
     "data": {
      "image/png": "[encoded data removed]",
      "text/plain": [
       "<Figure size 1200x800 with 1 Axes>"
      ]
     },
     "metadata": {},
     "output_type": "display_data"
    }
   ],
   "source": [
    "# Calculating mean values for each 'n'\n",
    "mean_values = all_results[['TPPI', 'Normalized_BertScore', 'Normalized_Perplexity', 'Normalized_Flesch', 'n']].groupby('n').mean().reset_index()\n",
    "\n",
    "# Plotting\n",
    "plt.figure(figsize=(12, 8))\n",
    "plt.plot(mean_values['n'], mean_values['TPPI'], marker='o', label='Mean TPPI')\n",
    "plt.plot(mean_values['n'], mean_values['Normalized_BertScore'], marker='o', label='Mean Normalized BertScore')\n",
    "plt.plot(mean_values['n'], mean_values['Normalized_Perplexity'], marker='o', label='Mean Normalized Perplexity')\n",
    "plt.plot(mean_values['n'], mean_values['Normalized_Flesch'], marker='o', label='Mean Normalized Flesch')\n",
    "\n",
    "plt.title('Mean Evolution of TPPI and Normalized Scores by n')\n",
    "plt.xlabel('Number of Combined Documents (n)')\n",
    "plt.ylabel('Mean Score')\n",
    "plt.xticks(mean_values['n'])  # Ensure x-axis labels match the number of documents\n",
    "plt.legend()\n",
    "plt.grid(True)\n",
    "plt.show()"
   ]
  }
 ],
 "metadata": {
  "kernelspec": {
   "display_name": "Python 3 (ipykernel)",
   "language": "python",
   "name": "python3"
  },
  "language_info": {
   "codemirror_mode": {
    "name": "ipython",
    "version": 3
   },
   "file_extension": ".py",
   "mimetype": "text/x-python",
   "name": "python",
   "nbconvert_exporter": "python",
   "pygments_lexer": "ipython3",
   "version": "3.9.18"
  }
 },
 "nbformat": 4,
 "nbformat_minor": 5
}
